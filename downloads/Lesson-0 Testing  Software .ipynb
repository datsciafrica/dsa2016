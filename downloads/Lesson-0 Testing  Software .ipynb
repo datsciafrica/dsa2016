{
 "cells": [
  {
   "cell_type": "markdown",
   "metadata": {},
   "source": [
    "## Data Science Africa 2016 - Prerequisite software\n",
    "\n",
    "The [Data Science Africa 2016 summer school](http://www.datascienceafrica.org/dsa2016/) will mainly cover the broad areas of Machine Learing and Data Science. This is the second summer school on data science following the previous one held at Dedan Kimathi University of Technology in 2015.\n",
    "\n",
    "To ensure we hit the ground running, it is essential you install the prerequiste software and test it out and make sure it is working on your computer. The venue for the summer school will have some computers on which the software will have been installed but you are advised to come with your own laptop with the software installed. \n",
    "\n",
    "Luckily all the software required has already been prepackaged in a bundle called [Anaconda](https://www.continuum.io/downloads). You can download the various versions of the software for your laptop OS and architecture from the [Anaconda website](https://www.continuum.io/downloads)."
   ]
  },
  {
   "cell_type": "markdown",
   "metadata": {},
   "source": [
    "### Testing the software\n",
    "If you installed the Anaconda software properly, you should be reading this :-). If you are reading this on a colleagues machine who got it installed then you are advised to ask your colleague who owns this machine how he/she did it.\n",
    "\n",
    "We will be mainly using the ipython notebook for the lab sessions, please get familiar with using the notebook. To ensure everything is working please follow the instructions that follow and run the corresponding commands. The goal state is to have no errors at the end of this process."
   ]
  },
  {
   "cell_type": "markdown",
   "metadata": {},
   "source": [
    "### Reading in data using Pandas\n",
    "[Pandas](http://pandas.pydata.org) is a Python library that is particularly good for doing any data-related tasks in Python. We will use several other libraries in Python as well. You are adviced to go through the [scipy-lectures (sections 1.1 - 1.4 and 3.1)](http://www.scipy-lectures.org) to get a good grounding in the libraries we will be using.\n",
    "\n",
    "To test that everything is working fine:\n",
    "1. Go to the website and download the [Production of major crops by district, UCA 2008 / 2009](http://catalog.data.ug/dataset/production-of-major-crops-by-district-uca-2008-2009) data. It includes excel sheets for the 4 regions of the country detailing in each production figures for major crops.\n",
    "2. Use Pandas to read in the first sheet of data from the excel document as shown below\n",
    "3. Work through some of the example analyses shown and complete the questions that follow.\n",
    "4. Go get a cold beer, drink 3/4 of it and inform a friend that you are now ready for the data science summer school 2016 !"
   ]
  },
  {
   "cell_type": "code",
   "execution_count": 8,
   "metadata": {
    "collapsed": false
   },
   "outputs": [],
   "source": [
    "# Import the relevant libraries to this notebook\n",
    "%matplotlib inline\n",
    "import pandas as pd\n",
    "import matplotlib.pyplot as plt\n",
    "import seaborn as sns"
   ]
  },
  {
   "cell_type": "code",
   "execution_count": 14,
   "metadata": {
    "collapsed": false
   },
   "outputs": [
    {
     "data": {
      "text/html": [
       "<div>\n",
       "<table border=\"1\" class=\"dataframe\">\n",
       "  <thead>\n",
       "    <tr style=\"text-align: right;\">\n",
       "      <th></th>\n",
       "      <th>District</th>\n",
       "      <th>Plantain Bananas</th>\n",
       "      <th>Finger millet</th>\n",
       "      <th>Maize</th>\n",
       "      <th>Sorghum</th>\n",
       "      <th>Rice</th>\n",
       "      <th>Column1</th>\n",
       "      <th>Sweet Potatoes</th>\n",
       "      <th>Irish Potaoes</th>\n",
       "      <th>Cassava</th>\n",
       "    </tr>\n",
       "  </thead>\n",
       "  <tbody>\n",
       "    <tr>\n",
       "      <th>0</th>\n",
       "      <td>Kalangala</td>\n",
       "      <td>531</td>\n",
       "      <td>0</td>\n",
       "      <td>776</td>\n",
       "      <td>0</td>\n",
       "      <td>NaN</td>\n",
       "      <td>0.0</td>\n",
       "      <td>4343</td>\n",
       "      <td>0</td>\n",
       "      <td>7950</td>\n",
       "    </tr>\n",
       "    <tr>\n",
       "      <th>1</th>\n",
       "      <td>Kampala</td>\n",
       "      <td>3004</td>\n",
       "      <td>0</td>\n",
       "      <td>245</td>\n",
       "      <td>0</td>\n",
       "      <td>NaN</td>\n",
       "      <td>0.0</td>\n",
       "      <td>796</td>\n",
       "      <td>0</td>\n",
       "      <td>1054</td>\n",
       "    </tr>\n",
       "    <tr>\n",
       "      <th>2</th>\n",
       "      <td>Kayunga</td>\n",
       "      <td>14657</td>\n",
       "      <td>710</td>\n",
       "      <td>18107</td>\n",
       "      <td>130</td>\n",
       "      <td>207.0</td>\n",
       "      <td>NaN</td>\n",
       "      <td>29331</td>\n",
       "      <td>0</td>\n",
       "      <td>33867</td>\n",
       "    </tr>\n",
       "    <tr>\n",
       "      <th>3</th>\n",
       "      <td>Kiboga</td>\n",
       "      <td>65380</td>\n",
       "      <td>46</td>\n",
       "      <td>34875</td>\n",
       "      <td>58</td>\n",
       "      <td>251.0</td>\n",
       "      <td>NaN</td>\n",
       "      <td>7969</td>\n",
       "      <td>916</td>\n",
       "      <td>14186</td>\n",
       "    </tr>\n",
       "    <tr>\n",
       "      <th>4</th>\n",
       "      <td>Luwero</td>\n",
       "      <td>37534</td>\n",
       "      <td>0</td>\n",
       "      <td>29849</td>\n",
       "      <td>0</td>\n",
       "      <td>362.0</td>\n",
       "      <td>NaN</td>\n",
       "      <td>15741</td>\n",
       "      <td>77</td>\n",
       "      <td>39732</td>\n",
       "    </tr>\n",
       "  </tbody>\n",
       "</table>\n",
       "</div>"
      ],
      "text/plain": [
       "     District  Plantain Bananas Finger millet  Maize  Sorghum   Rice  Column1  \\\n",
       "0  Kalangala                531            0     776        0    NaN      0.0   \n",
       "1   Kampala                3004            0     245        0    NaN      0.0   \n",
       "2    Kayunga              14657          710   18107      130  207.0      NaN   \n",
       "3     Kiboga              65380           46   34875       58  251.0      NaN   \n",
       "4     Luwero              37534            0   29849        0  362.0      NaN   \n",
       "\n",
       "  Sweet Potatoes  Irish Potaoes  Cassava  \n",
       "0          4343               0     7950  \n",
       "1           796               0     1054  \n",
       "2         29331               0    33867  \n",
       "3          7969             916    14186  \n",
       "4         15741              77    39732  "
      ]
     },
     "execution_count": 14,
     "metadata": {},
     "output_type": "execute_result"
    }
   ],
   "source": [
    "datafilename = \"productionmajorcropsregio20082009.xls\" # this file must be in your path\n",
    "\n",
    "# Read in data skipping some rows at the top and the last row at the bottom that has the sub-totals\n",
    "data = pd.read_excel(datafilename, sheet=\"CENTRAL\", skiprows=2, skip_footer=1, thousands=',') \n",
    "data.head() # show the first 5 rows of the data. try data.head(20)"
   ]
  },
  {
   "cell_type": "code",
   "execution_count": 15,
   "metadata": {
    "collapsed": false
   },
   "outputs": [
    {
     "data": {
      "text/html": [
       "<div>\n",
       "<table border=\"1\" class=\"dataframe\">\n",
       "  <thead>\n",
       "    <tr style=\"text-align: right;\">\n",
       "      <th></th>\n",
       "      <th>District</th>\n",
       "      <th>Maize</th>\n",
       "      <th>Cassava</th>\n",
       "    </tr>\n",
       "  </thead>\n",
       "  <tbody>\n",
       "    <tr>\n",
       "      <th>0</th>\n",
       "      <td>Kalangala</td>\n",
       "      <td>776</td>\n",
       "      <td>7950</td>\n",
       "    </tr>\n",
       "    <tr>\n",
       "      <th>1</th>\n",
       "      <td>Kampala</td>\n",
       "      <td>245</td>\n",
       "      <td>1054</td>\n",
       "    </tr>\n",
       "    <tr>\n",
       "      <th>2</th>\n",
       "      <td>Kayunga</td>\n",
       "      <td>18107</td>\n",
       "      <td>33867</td>\n",
       "    </tr>\n",
       "    <tr>\n",
       "      <th>3</th>\n",
       "      <td>Kiboga</td>\n",
       "      <td>34875</td>\n",
       "      <td>14186</td>\n",
       "    </tr>\n",
       "    <tr>\n",
       "      <th>4</th>\n",
       "      <td>Luwero</td>\n",
       "      <td>29849</td>\n",
       "      <td>39732</td>\n",
       "    </tr>\n",
       "  </tbody>\n",
       "</table>\n",
       "</div>"
      ],
      "text/plain": [
       "     District  Maize  Cassava\n",
       "0  Kalangala     776     7950\n",
       "1   Kampala      245     1054\n",
       "2    Kayunga   18107    33867\n",
       "3     Kiboga   34875    14186\n",
       "4     Luwero   29849    39732"
      ]
     },
     "execution_count": 15,
     "metadata": {},
     "output_type": "execute_result"
    }
   ],
   "source": [
    "# You can select a sub dataset\n",
    "data_maize_cassava = data[['District', 'Maize', 'Cassava']]\n",
    "data_maize_cassava.head()"
   ]
  },
  {
   "cell_type": "code",
   "execution_count": 16,
   "metadata": {
    "collapsed": false
   },
   "outputs": [
    {
     "name": "stdout",
     "output_type": "stream",
     "text": [
      "Maize production for Central region is 449858.0 Metric tonnes\n"
     ]
    }
   ],
   "source": [
    "# Get  total maize production for central region\n",
    "# First remove the last row with t\n",
    "print \"Maize production for Central region is {} Metric tonnes\".format(data['Maize'].astype('float32').sum())"
   ]
  },
  {
   "cell_type": "code",
   "execution_count": 17,
   "metadata": {
    "collapsed": false
   },
   "outputs": [
    {
     "data": {
      "text/plain": [
       "<matplotlib.axes._subplots.AxesSubplot at 0x11a8be490>"
      ]
     },
     "execution_count": 17,
     "metadata": {},
     "output_type": "execute_result"
    },
    {
     "data": {
      "image/png": "[encoded data removed]",
      "text/plain": [
       "<matplotlib.figure.Figure at 0x119eb1950>"
      ]
     },
     "metadata": {},
     "output_type": "display_data"
    }
   ],
   "source": [
    "# Plot cassava production by district\n",
    "data.plot(x='District', y='Cassava', kind='bar')"
   ]
  },
  {
   "cell_type": "markdown",
   "metadata": {},
   "source": [
    "### For you to do"
   ]
  },
  {
   "cell_type": "code",
   "execution_count": 21,
   "metadata": {
    "collapsed": true
   },
   "outputs": [],
   "source": [
    "# Write your code to complete the following functions\n",
    "\n",
    "def read_allregionsdata(datafilename):\n",
    "    # Read in all the data from the different regions\n",
    "    # from the excel sheet \"datafilename\"\n",
    "    \n",
    "    # WRITE YOUR CODE HERE\n",
    "    data_central = 0\n",
    "    data_eastern = 0\n",
    "    data_northern = 0\n",
    "    data_western = 0\n",
    "    \n",
    "    return data_central, data_eastern, data_northern, data_western\n",
    "\n",
    "def get_total_sp_eastern(data_eastern):\n",
    "    # Get the total tonnage of Sweet potatoes from the Eastern region\n",
    "    \n",
    "    # WRITE YOUR CODE HERE (AND REPLACE THE DEFAULT VALUE FOR total_sp..)\n",
    "    total_sp = 0\n",
    "    \n",
    "    return total_sp\n",
    "    \n",
    "def get_max_prod_western(data_western):\n",
    "    # Get the maximum production of Finger millet in the western region\n",
    "    # This is not the total production but the maximum production of a district\n",
    "    \n",
    "    # WRITE YOUR CODE HERE\n",
    "    max_prod = 0\n",
    "    \n",
    "    return max_prod\n",
    "\n",
    "def get_dist_max_prod_western(data_western):\n",
    "    # Get the district with the maximum production of Finger millet in the western region\n",
    "    \n",
    "    # WRITE YOUR CODE HERE\n",
    "    max_prod_dist = \"\"\n",
    "    \n",
    "    return max_prod_dist\n",
    "\n"
   ]
  },
  {
   "cell_type": "code",
   "execution_count": null,
   "metadata": {
    "collapsed": false
   },
   "outputs": [],
   "source": [
    "# Testing...\n",
    "data_central, data_eastern, data_northern, data_western = read_allregionsdata(datafilename)\n",
    "assert get_total_sp_eastern(data_eastern) == 312405.0, \"Sorry wrong answer, minus 1 beer :-(\"\n",
    "assert get_max_prod_western(data_western) == 9674.0, \"Answer feels wrong, this is the western region we are talking about\"\n",
    "assert get_dist_max_prod_western(data_western).strip() == \"Nakasongola\", \"Naah, that district was abolished last week !\"\n",
    "print \"Congratulations, all is working just fine !!!\""
   ]
  },
  {
   "cell_type": "markdown",
   "metadata": {},
   "source": [
    "### Extra Bonus questions (in some instances \"bonus\" can be replaced with \"beer\")"
   ]
  },
  {
   "cell_type": "code",
   "execution_count": 25,
   "metadata": {
    "collapsed": true
   },
   "outputs": [],
   "source": [
    "def combine_alldatasets(data_central, data_western, data_eastern, data_northern):\n",
    "    # Combine all the regional datasets into one national dataset\n",
    "    \n",
    "    # WRITE YOUR CODE HERE\n",
    "    nationalData = 0\n",
    "    \n",
    "    return nationalData\n",
    "\n",
    "def get_total_national_cassava_prod(nationalData):\n",
    "    # Attempt this after the previous question\n",
    "    # Get the total national production for cassava (tons) for 2008-2009\n",
    "    \n",
    "    # WRITE YOUR CODE HERE\n",
    "    total_cassava = 0\n",
    "    \n",
    "    return total_cassava"
   ]
  },
  {
   "cell_type": "code",
   "execution_count": null,
   "metadata": {
    "collapsed": false
   },
   "outputs": [],
   "source": [
    "d = combine_alldatasets(data_central, data_western, data_eastern, data_northern)\n",
    "assert get_total_national_cassava_prod(d) == 1.63924e+06, \"Comeon man, cassava is a big deal - much more than that !\"\n",
    "print \"Congratulations, you get 2-tickets to beerville; all you can drink :-)\""
   ]
  },
  {
   "cell_type": "code",
   "execution_count": null,
   "metadata": {
    "collapsed": true
   },
   "outputs": [],
   "source": []
  }
 ],
 "metadata": {
  "kernelspec": {
   "display_name": "Python 2",
   "language": "python",
   "name": "python2"
  },
  "language_info": {
   "codemirror_mode": {
    "name": "ipython",
    "version": 2
   },
   "file_extension": ".py",
   "mimetype": "text/x-python",
   "name": "python",
   "nbconvert_exporter": "python",
   "pygments_lexer": "ipython2",
   "version": "2.7.11"
  }
 },
 "nbformat": 4,
 "nbformat_minor": 0
}
