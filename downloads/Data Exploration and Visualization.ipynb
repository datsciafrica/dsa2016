{
 "cells": [
  {
   "cell_type": "markdown",
   "metadata": {},
   "source": [
    "# Data Exploration & Visualization\n",
    "### [Data Science Africa Summer School 2016](www.datascienceafrica.org/dsa2016)\n",
    "#### Notebook Created by [Ernest Mwebaze](www.air.ug/emwebaze)"
   ]
  },
  {
   "cell_type": "code",
   "execution_count": 1,
   "metadata": {
    "collapsed": false
   },
   "outputs": [],
   "source": [
    "%matplotlib inline\n",
    "import matplotlib.pyplot as plt\n",
    "import pandas as pd\n",
    "import numpy as np\n",
    "from generatedatah import *\n",
    "import seaborn as sns\n",
    "sns.set(color_codes=True)"
   ]
  },
  {
   "cell_type": "markdown",
   "metadata": {},
   "source": [
    "# Data Cleaning"
   ]
  },
  {
   "cell_type": "markdown",
   "metadata": {},
   "source": [
    "We will look at cleaning sample data from hospital records that show records of child birth that were entered onto sheets of paper and transcribed into an electronic system by interns. The data is a bit messy and hard to analyse as it is. \n",
    "\n",
    "Note that this is simulated data. We also tie the data to your birthday so please enter your birthday to generate your unique set."
   ]
  },
  {
   "cell_type": "code",
   "execution_count": 2,
   "metadata": {
    "collapsed": false
   },
   "outputs": [],
   "source": [
    "# Generate the data\n",
    "random_seed =  286\n",
    "Gender, Weights, Heights, Birthdays, ChildCondition = generate_birth_data(random_seed)"
   ]
  },
  {
   "cell_type": "code",
   "execution_count": 3,
   "metadata": {
    "collapsed": false
   },
   "outputs": [
    {
     "name": "stdout",
     "output_type": "stream",
     "text": [
      "5148 5148 5148 5148 5148\n"
     ]
    }
   ],
   "source": [
    "print len(Gender), len(Weights), len(Heights), len(Birthdays), len(ChildCondition)"
   ]
  },
  {
   "cell_type": "code",
   "execution_count": 6,
   "metadata": {
    "collapsed": true
   },
   "outputs": [
    {
     "data": {
      "text/plain": [
       "['byo',\n",
       " 'gril',\n",
       " 'byo',\n",
       " 'gir',\n",
       " 'gril',\n",
       " 'byo',\n",
       " 'girl',\n",
       " 'gril',\n",
       " 'Girl',\n",
       " 'gir',\n",
       " 'girl',\n",
       " 'gril',\n",
       " 'byo',\n",
       " 'Girl',\n",
       " 'gir',\n",
       " 'byo',\n",
       " 'byo',\n",
       " 'gir',\n",
       " 'gril',\n",
       " 'girl']"
      ]
     },
     "execution_count": 6,
     "metadata": {},
     "output_type": "execute_result"
    }
   ],
   "source": [
    "Gender[:20]"
   ]
  },
  {
   "cell_type": "markdown",
   "metadata": {},
   "source": [
    "### Clean Gender data"
   ]
  },
  {
   "cell_type": "markdown",
   "metadata": {},
   "source": [
    "The attribute Gender has different variations of the words 'girl' and 'boy'. Your role is to write a function that takes in the attribute data Gender and returns cleaned words. The attribute Gender should only have words consisting of ['girl','boy']."
   ]
  },
  {
   "cell_type": "code",
   "execution_count": 4,
   "metadata": {
    "collapsed": true
   },
   "outputs": [],
   "source": [
    "def convert_to_dataframe(Gender, Weights, Heights, Birthdays, ChildCondition):\n",
    "    # Generate a dataframe from the attributes. \n",
    "    # Function should return a dataframe\n",
    "    # HINT: Look through the documentation on how to create pandas dataframes\n",
    "    # TODO: WRITE YOUR CODE HERE\n",
    "    birthDict = {'Gender':Gender, 'Weights':Weights, 'Heights':Heights, 'BirthDays':Birthdays, 'Childcondition':ChildCondition}\n",
    "    birthData = pd.DataFrame(birthDict)\n",
    "    return birthData"
   ]
  },
  {
   "cell_type": "markdown",
   "metadata": {},
   "source": [
    "***Checking out your data***\n",
    "After loading a dataset it is always good to check it out using techniques from the previous lecture. Common tools are ```describe(), shape, unique()```\n",
    "\n",
    "For our dataset, run the function to ensure you are loading the data correctly and run the three functions above.\n",
    "<font color='red'>Questions</font>\n",
    "1. >How many records are in the dataset ? Answer = 5148\n",
    "2. >What is the mean weight and mean height ? Answer = 19.13, 48.61\n",
    "3. >Using unique on each column, which columns need *cleaning* ? Answer = "
   ]
  },
  {
   "cell_type": "code",
   "execution_count": 5,
   "metadata": {
    "collapsed": false
   },
   "outputs": [
    {
     "data": {
      "text/html": [
       "<div>\n",
       "<table border=\"1\" class=\"dataframe\">\n",
       "  <thead>\n",
       "    <tr style=\"text-align: right;\">\n",
       "      <th></th>\n",
       "      <th>BirthDays</th>\n",
       "      <th>Childcondition</th>\n",
       "      <th>Gender</th>\n",
       "      <th>Heights</th>\n",
       "      <th>Weights</th>\n",
       "    </tr>\n",
       "  </thead>\n",
       "  <tbody>\n",
       "    <tr>\n",
       "      <th>0</th>\n",
       "      <td>2002-10-22</td>\n",
       "      <td>Healthy, Tall</td>\n",
       "      <td>byo</td>\n",
       "      <td>58</td>\n",
       "      <td>0.2</td>\n",
       "    </tr>\n",
       "    <tr>\n",
       "      <th>1</th>\n",
       "      <td>2003-11-23</td>\n",
       "      <td>Weak, Healthy</td>\n",
       "      <td>gril</td>\n",
       "      <td>55</td>\n",
       "      <td>3.8</td>\n",
       "    </tr>\n",
       "    <tr>\n",
       "      <th>2</th>\n",
       "      <td>2002-06-21</td>\n",
       "      <td>Tall</td>\n",
       "      <td>byo</td>\n",
       "      <td>56</td>\n",
       "      <td>2.8</td>\n",
       "    </tr>\n",
       "    <tr>\n",
       "      <th>3</th>\n",
       "      <td>2003-06-29</td>\n",
       "      <td>Tall</td>\n",
       "      <td>gir</td>\n",
       "      <td>49</td>\n",
       "      <td>2.9</td>\n",
       "    </tr>\n",
       "    <tr>\n",
       "      <th>4</th>\n",
       "      <td>2002-10-09</td>\n",
       "      <td>Weak, Tall, Hairy</td>\n",
       "      <td>gril</td>\n",
       "      <td>49</td>\n",
       "      <td>4.0</td>\n",
       "    </tr>\n",
       "  </tbody>\n",
       "</table>\n",
       "</div>"
      ],
      "text/plain": [
       "   BirthDays     Childcondition Gender  Heights  Weights\n",
       "0 2002-10-22      Healthy, Tall    byo       58      0.2\n",
       "1 2003-11-23      Weak, Healthy   gril       55      3.8\n",
       "2 2002-06-21               Tall    byo       56      2.8\n",
       "3 2003-06-29               Tall    gir       49      2.9\n",
       "4 2002-10-09  Weak, Tall, Hairy   gril       49      4.0"
      ]
     },
     "execution_count": 5,
     "metadata": {},
     "output_type": "execute_result"
    }
   ],
   "source": [
    "# Run your function to create the dataset\n",
    "birthData = convert_to_dataframe(Gender, Weights, Heights, Birthdays, ChildCondition)\n",
    "# birthData.head()\n",
    "birthData.to_csv('birthdatacsv.csv', delimiter=',')\n",
    "birthData.head()"
   ]
  },
  {
   "cell_type": "code",
   "execution_count": 14,
   "metadata": {
    "collapsed": false
   },
   "outputs": [
    {
     "data": {
      "text/plain": [
       "(5148, 5)"
      ]
     },
     "execution_count": 14,
     "metadata": {},
     "output_type": "execute_result"
    }
   ],
   "source": [
    "# Run shape, describe on the dataset\n",
    "birthData.shape"
   ]
  },
  {
   "cell_type": "code",
   "execution_count": 13,
   "metadata": {
    "collapsed": false
   },
   "outputs": [
    {
     "data": {
      "text/html": [
       "<div>\n",
       "<table border=\"1\" class=\"dataframe\">\n",
       "  <thead>\n",
       "    <tr style=\"text-align: right;\">\n",
       "      <th></th>\n",
       "      <th>Heights</th>\n",
       "      <th>Weights</th>\n",
       "    </tr>\n",
       "  </thead>\n",
       "  <tbody>\n",
       "    <tr>\n",
       "      <th>count</th>\n",
       "      <td>5148.000000</td>\n",
       "      <td>5148.000000</td>\n",
       "    </tr>\n",
       "    <tr>\n",
       "      <th>mean</th>\n",
       "      <td>48.613636</td>\n",
       "      <td>19.128613</td>\n",
       "    </tr>\n",
       "    <tr>\n",
       "      <th>std</th>\n",
       "      <td>6.364251</td>\n",
       "      <td>32.747978</td>\n",
       "    </tr>\n",
       "    <tr>\n",
       "      <th>min</th>\n",
       "      <td>38.000000</td>\n",
       "      <td>0.000000</td>\n",
       "    </tr>\n",
       "    <tr>\n",
       "      <th>25%</th>\n",
       "      <td>43.000000</td>\n",
       "      <td>1.750000</td>\n",
       "    </tr>\n",
       "    <tr>\n",
       "      <th>50%</th>\n",
       "      <td>49.000000</td>\n",
       "      <td>3.000000</td>\n",
       "    </tr>\n",
       "    <tr>\n",
       "      <th>75%</th>\n",
       "      <td>54.000000</td>\n",
       "      <td>8.325000</td>\n",
       "    </tr>\n",
       "    <tr>\n",
       "      <th>max</th>\n",
       "      <td>59.000000</td>\n",
       "      <td>121.000000</td>\n",
       "    </tr>\n",
       "  </tbody>\n",
       "</table>\n",
       "</div>"
      ],
      "text/plain": [
       "           Heights      Weights\n",
       "count  5148.000000  5148.000000\n",
       "mean     48.613636    19.128613\n",
       "std       6.364251    32.747978\n",
       "min      38.000000     0.000000\n",
       "25%      43.000000     1.750000\n",
       "50%      49.000000     3.000000\n",
       "75%      54.000000     8.325000\n",
       "max      59.000000   121.000000"
      ]
     },
     "execution_count": 13,
     "metadata": {},
     "output_type": "execute_result"
    }
   ],
   "source": [
    "birthData.describe()"
   ]
  },
  {
   "cell_type": "code",
   "execution_count": 20,
   "metadata": {
    "collapsed": false
   },
   "outputs": [
    {
     "data": {
      "text/plain": [
       "array(['Healthy, Tall', 'Weak, Healthy', 'Tall', 'Weak, Tall, Hairy'], dtype=object)"
      ]
     },
     "execution_count": 20,
     "metadata": {},
     "output_type": "execute_result"
    }
   ],
   "source": [
    "# Run unique on each column and see which columns need fixing\n",
    "birthData['Childcondition'].unique()"
   ]
  },
  {
   "cell_type": "code",
   "execution_count": 31,
   "metadata": {
    "collapsed": false
   },
   "outputs": [
    {
     "data": {
      "text/html": [
       "<div>\n",
       "<table border=\"1\" class=\"dataframe\">\n",
       "  <thead>\n",
       "    <tr style=\"text-align: right;\">\n",
       "      <th></th>\n",
       "      <th>BirthDays</th>\n",
       "      <th>Childcondition</th>\n",
       "      <th>Gender</th>\n",
       "      <th>Heights</th>\n",
       "      <th>Weights</th>\n",
       "    </tr>\n",
       "  </thead>\n",
       "  <tbody>\n",
       "    <tr>\n",
       "      <th>3</th>\n",
       "      <td>2003-06-29</td>\n",
       "      <td>Tall</td>\n",
       "      <td>gir</td>\n",
       "      <td>49</td>\n",
       "      <td>2.9</td>\n",
       "    </tr>\n",
       "    <tr>\n",
       "      <th>4</th>\n",
       "      <td>2002-10-09</td>\n",
       "      <td>Weak, Tall, Hairy</td>\n",
       "      <td>gril</td>\n",
       "      <td>49</td>\n",
       "      <td>4.0</td>\n",
       "    </tr>\n",
       "    <tr>\n",
       "      <th>7</th>\n",
       "      <td>2002-08-18</td>\n",
       "      <td>Healthy, Tall</td>\n",
       "      <td>gril</td>\n",
       "      <td>41</td>\n",
       "      <td>3.6</td>\n",
       "    </tr>\n",
       "    <tr>\n",
       "      <th>8</th>\n",
       "      <td>2003-08-03</td>\n",
       "      <td>Weak, Healthy</td>\n",
       "      <td>Girl</td>\n",
       "      <td>45</td>\n",
       "      <td>2.4</td>\n",
       "    </tr>\n",
       "    <tr>\n",
       "      <th>15</th>\n",
       "      <td>2003-06-13</td>\n",
       "      <td>Tall</td>\n",
       "      <td>byo</td>\n",
       "      <td>48</td>\n",
       "      <td>0.9</td>\n",
       "    </tr>\n",
       "  </tbody>\n",
       "</table>\n",
       "</div>"
      ],
      "text/plain": [
       "    BirthDays     Childcondition Gender  Heights  Weights\n",
       "3  2003-06-29               Tall    gir       49      2.9\n",
       "4  2002-10-09  Weak, Tall, Hairy   gril       49      4.0\n",
       "7  2002-08-18      Healthy, Tall   gril       41      3.6\n",
       "8  2003-08-03      Weak, Healthy   Girl       45      2.4\n",
       "15 2003-06-13               Tall    byo       48      0.9"
      ]
     },
     "execution_count": 31,
     "metadata": {},
     "output_type": "execute_result"
    }
   ],
   "source": [
    "birthData[:5]"
   ]
  },
  {
   "cell_type": "code",
   "execution_count": 6,
   "metadata": {
    "collapsed": true
   },
   "outputs": [],
   "source": [
    "# OK lets clean out the Gender column\n",
    "def remove_invalid_strings(birthData):\n",
    "    # Remove all rows with empty Gender inputs i.e those with \"\"\n",
    "    # Alternatively select all rows of the dataset where the Gender inputs are not \"\"\n",
    "    q = birthData['Gender'] != \"\"\n",
    "#     q2 = birthData['Heights'] < 50\n",
    "    birthData = birthData[q]\n",
    "    return birthData"
   ]
  },
  {
   "cell_type": "markdown",
   "metadata": {},
   "source": [
    "<font color='red'>Questions</font>\n",
    "1. >From analysing the new dataset using shape or some other command, how many bad rows were removed ? Answer = "
   ]
  },
  {
   "cell_type": "code",
   "execution_count": 7,
   "metadata": {
    "collapsed": false
   },
   "outputs": [
    {
     "name": "stdout",
     "output_type": "stream",
     "text": [
      "(4576, 5)\n",
      "['byo' 'gril' 'gir' 'girl' 'Girl' 'Gal' 'Boyz' 'boy']\n"
     ]
    }
   ],
   "source": [
    "# Test your cleaned out Gender column\n",
    "birthData = remove_invalid_strings(birthData)\n",
    "print birthData.shape\n",
    "print birthData['Gender'].unique()"
   ]
  },
  {
   "cell_type": "code",
   "execution_count": null,
   "metadata": {
    "collapsed": true
   },
   "outputs": [],
   "source": [
    "# The Weights of the kids look weird ! A Kid of 0.5 Kgs ?, Kid of 110 Kgs ? Perhaps we need to clean out this data\n",
    "\n",
    "# What are the min and max weights in the data ?"
   ]
  },
  {
   "cell_type": "code",
   "execution_count": 8,
   "metadata": {
    "collapsed": true
   },
   "outputs": [],
   "source": [
    "# Complete these functions to clean the data\n",
    "def remove_invalid_lowweights(birthData):\n",
    "    # Remove rows where weights are below 1.5\n",
    "    # TODO: WRITE YOUR CODE HERE\n",
    "    q = birthData['Weights'] >= 1.5\n",
    "    outbirthData = birthData[q]\n",
    "    return outbirthData\n",
    "\n",
    "def remove_invalid_highweights(birthData):\n",
    "    # Remove rows where weights are above 4.5\n",
    "    # TODO: WRITE YOUR CODE HERE\n",
    "    q = birthData['Weights'] <= 4.5\n",
    "    outbirthdata = birthData[q]\n",
    "    return outbirthdata"
   ]
  },
  {
   "cell_type": "code",
   "execution_count": 9,
   "metadata": {
    "collapsed": false
   },
   "outputs": [
    {
     "data": {
      "text/html": [
       "<div>\n",
       "<table border=\"1\" class=\"dataframe\">\n",
       "  <thead>\n",
       "    <tr style=\"text-align: right;\">\n",
       "      <th></th>\n",
       "      <th>Heights</th>\n",
       "      <th>Weights</th>\n",
       "    </tr>\n",
       "  </thead>\n",
       "  <tbody>\n",
       "    <tr>\n",
       "      <th>count</th>\n",
       "      <td>2427.000000</td>\n",
       "      <td>2427.000000</td>\n",
       "    </tr>\n",
       "    <tr>\n",
       "      <th>mean</th>\n",
       "      <td>48.553770</td>\n",
       "      <td>2.891965</td>\n",
       "    </tr>\n",
       "    <tr>\n",
       "      <th>std</th>\n",
       "      <td>6.358931</td>\n",
       "      <td>0.746659</td>\n",
       "    </tr>\n",
       "    <tr>\n",
       "      <th>min</th>\n",
       "      <td>38.000000</td>\n",
       "      <td>1.500000</td>\n",
       "    </tr>\n",
       "    <tr>\n",
       "      <th>25%</th>\n",
       "      <td>43.000000</td>\n",
       "      <td>2.300000</td>\n",
       "    </tr>\n",
       "    <tr>\n",
       "      <th>50%</th>\n",
       "      <td>48.000000</td>\n",
       "      <td>2.900000</td>\n",
       "    </tr>\n",
       "    <tr>\n",
       "      <th>75%</th>\n",
       "      <td>54.000000</td>\n",
       "      <td>3.600000</td>\n",
       "    </tr>\n",
       "    <tr>\n",
       "      <th>max</th>\n",
       "      <td>59.000000</td>\n",
       "      <td>4.100000</td>\n",
       "    </tr>\n",
       "  </tbody>\n",
       "</table>\n",
       "</div>"
      ],
      "text/plain": [
       "           Heights      Weights\n",
       "count  2427.000000  2427.000000\n",
       "mean     48.553770     2.891965\n",
       "std       6.358931     0.746659\n",
       "min      38.000000     1.500000\n",
       "25%      43.000000     2.300000\n",
       "50%      48.000000     2.900000\n",
       "75%      54.000000     3.600000\n",
       "max      59.000000     4.100000"
      ]
     },
     "execution_count": 9,
     "metadata": {},
     "output_type": "execute_result"
    }
   ],
   "source": [
    "# Test that the functions work\n",
    "birthData = remove_invalid_lowweights(birthData)\n",
    "birthData = remove_invalid_highweights(birthData)\n",
    "\n",
    "# Get max and min weights\n",
    "birthData.describe()"
   ]
  },
  {
   "cell_type": "markdown",
   "metadata": {},
   "source": [
    "<font color='red'>Questions</font>\n",
    "1. >What are the new min and max weights ? Answer = 1.5, 4.1"
   ]
  },
  {
   "cell_type": "code",
   "execution_count": 41,
   "metadata": {
    "collapsed": false
   },
   "outputs": [
    {
     "data": {
      "text/plain": [
       "array(['gril', 'byo', 'gir', 'Girl', 'girl', 'Gal', 'Boyz', 'boy'], dtype=object)"
      ]
     },
     "execution_count": 41,
     "metadata": {},
     "output_type": "execute_result"
    }
   ],
   "source": [
    "birthData.Gender.unique()"
   ]
  },
  {
   "cell_type": "code",
   "execution_count": 45,
   "metadata": {
    "collapsed": false
   },
   "outputs": [],
   "source": [
    "a = [2,3,4,5]\n",
    "df = pd.Series(a)\n",
    "\n",
    "def mul_a(x):\n",
    "    output = x * 2\n",
    "    return output"
   ]
  },
  {
   "cell_type": "code",
   "execution_count": 47,
   "metadata": {
    "collapsed": false
   },
   "outputs": [
    {
     "name": "stdout",
     "output_type": "stream",
     "text": [
      "0     4\n",
      "1     6\n",
      "2     8\n",
      "3    10\n",
      "dtype: int64\n"
     ]
    }
   ],
   "source": [
    "b = df.apply(mul_a)\n",
    "print b"
   ]
  },
  {
   "cell_type": "code",
   "execution_count": 10,
   "metadata": {
    "collapsed": false
   },
   "outputs": [],
   "source": [
    "def convert_lowercase(x):\n",
    "    result = x.lower()\n",
    "    return result\n",
    "\n",
    "def rename_gender(x):\n",
    "    result = x\n",
    "    if x in ['gril','gir','gal']:\n",
    "        result = 'girl'\n",
    "    if x in ['byo','boyz']:\n",
    "        result = 'boy'\n",
    "    return result\n",
    "\n",
    "def clean_gender_attribute(birthData):\n",
    "    # Clean up the gender attribute to remain with gender in ['girl','boy']\n",
    "    # Plan for execution\n",
    "    # 1. Convert all the genders to lowercase\n",
    "    # 2. Look up the 'apply' function for Pandas and see how to use it to replace the dodgy data to correct data\n",
    "    # TODO: WRITE YOUR CODE HERE\n",
    "    birthData.Gender = birthData.Gender.apply(convert_lowercase)\n",
    "    birthData.Gender = birthData.Gender.apply(rename_gender)    \n",
    "    \n",
    "    return birthData\n"
   ]
  },
  {
   "cell_type": "code",
   "execution_count": 11,
   "metadata": {
    "collapsed": false
   },
   "outputs": [],
   "source": [
    "# Check that your code works and there are only two genders\n",
    "birthData = clean_gender_attribute(birthData)\n",
    "assert len(birthData.Gender.unique()) == 2\n"
   ]
  },
  {
   "cell_type": "markdown",
   "metadata": {},
   "source": [
    "### Do basic analysis \n",
    "Now we do some basic analysis with our data. So perhaps the hospital wants to find out how many boys were born in a particular month, or year. What the average weights for girls were vs those for boys"
   ]
  },
  {
   "cell_type": "code",
   "execution_count": null,
   "metadata": {
    "collapsed": true
   },
   "outputs": [],
   "source": [
    "# Just to check - What is the size of the dataset you are using now ?\n",
    "birthData.shape"
   ]
  },
  {
   "cell_type": "code",
   "execution_count": 12,
   "metadata": {
    "collapsed": true
   },
   "outputs": [],
   "source": [
    "# Calculate basic statistics for the hospital\n",
    "# HINT: It may help to generate different datasets for the different genders\n",
    "def num_of_girls_boys(birthData):\n",
    "    # Return number of boys and girls\n",
    "    # TODO: WRITE YOUR CODE HERE\n",
    "    return (num_boys, num_girls)\n",
    "\n",
    "def average_gender_weight(birthData):\n",
    "    # Return the average weight of the different genders\n",
    "    # TODO: WRITE YOUR CODE HERE\n",
    "    return (avg_weight_boys, avg_weight_girls)\n",
    "\n",
    "def average_gender_height(birthData):\n",
    "    # Return the average weight of the different genders\n",
    "    # TODO: WRITE YOUR CODE HERE\n",
    "    return (avg_height_boys, avg_height_girls)"
   ]
  },
  {
   "cell_type": "markdown",
   "metadata": {
    "collapsed": true
   },
   "source": [
    "### Dealing with text in data\n",
    "Some times you have to deal with text in the dataset. For example we have the condition of the children in this dataset which is textual information.\n",
    "\n",
    "Pandas provides for doing this kind of analysis with the ```str.contains()``` function that can be applied to a series of a column of a dataframe"
   ]
  },
  {
   "cell_type": "code",
   "execution_count": 70,
   "metadata": {
    "collapsed": false
   },
   "outputs": [
    {
     "name": "stdout",
     "output_type": "stream",
     "text": [
      "0    False\n",
      "1     True\n",
      "2    False\n",
      "dtype: bool\n"
     ]
    }
   ],
   "source": [
    "# Example\n",
    "b = ['Juma', 'Jane', 'Tobias']\n",
    "dexample = pd.Series(b)\n",
    "print dexample.str.contains('Jane')"
   ]
  },
  {
   "cell_type": "code",
   "execution_count": 53,
   "metadata": {
    "collapsed": false
   },
   "outputs": [
    {
     "data": {
      "text/html": [
       "<div>\n",
       "<table border=\"1\" class=\"dataframe\">\n",
       "  <thead>\n",
       "    <tr style=\"text-align: right;\">\n",
       "      <th></th>\n",
       "      <th>BirthDays</th>\n",
       "      <th>Childcondition</th>\n",
       "      <th>Gender</th>\n",
       "      <th>Heights</th>\n",
       "      <th>Weights</th>\n",
       "    </tr>\n",
       "  </thead>\n",
       "  <tbody>\n",
       "    <tr>\n",
       "      <th>1</th>\n",
       "      <td>2003-11-23</td>\n",
       "      <td>Weak, Healthy</td>\n",
       "      <td>girl</td>\n",
       "      <td>55</td>\n",
       "      <td>3.8</td>\n",
       "    </tr>\n",
       "    <tr>\n",
       "      <th>2</th>\n",
       "      <td>2002-06-21</td>\n",
       "      <td>Tall</td>\n",
       "      <td>boy</td>\n",
       "      <td>56</td>\n",
       "      <td>2.8</td>\n",
       "    </tr>\n",
       "    <tr>\n",
       "      <th>3</th>\n",
       "      <td>2003-06-29</td>\n",
       "      <td>Tall</td>\n",
       "      <td>girl</td>\n",
       "      <td>49</td>\n",
       "      <td>2.9</td>\n",
       "    </tr>\n",
       "    <tr>\n",
       "      <th>4</th>\n",
       "      <td>2002-10-09</td>\n",
       "      <td>Weak, Tall, Hairy</td>\n",
       "      <td>girl</td>\n",
       "      <td>49</td>\n",
       "      <td>4.0</td>\n",
       "    </tr>\n",
       "    <tr>\n",
       "      <th>5</th>\n",
       "      <td>2003-07-03</td>\n",
       "      <td>Weak, Healthy</td>\n",
       "      <td>boy</td>\n",
       "      <td>59</td>\n",
       "      <td>4.0</td>\n",
       "    </tr>\n",
       "  </tbody>\n",
       "</table>\n",
       "</div>"
      ],
      "text/plain": [
       "   BirthDays     Childcondition Gender  Heights  Weights\n",
       "1 2003-11-23      Weak, Healthy   girl       55      3.8\n",
       "2 2002-06-21               Tall    boy       56      2.8\n",
       "3 2003-06-29               Tall   girl       49      2.9\n",
       "4 2002-10-09  Weak, Tall, Hairy   girl       49      4.0\n",
       "5 2003-07-03      Weak, Healthy    boy       59      4.0"
      ]
     },
     "execution_count": 53,
     "metadata": {},
     "output_type": "execute_result"
    }
   ],
   "source": [
    "birthData.head()"
   ]
  },
  {
   "cell_type": "code",
   "execution_count": null,
   "metadata": {
    "collapsed": true
   },
   "outputs": [],
   "source": [
    "# Do some string manipulations on the data\n",
    "def num_healthy_kids(birthData):\n",
    "    # Return the number of healthy kids born \n",
    "    # Do this by filtering on the childs condition at birth\n",
    "    # TODO: WRITE YOUR CODE HERE\n",
    "    return num_kids\n",
    "\n",
    "def num_tall_kids(birthData):\n",
    "    # Return the number of tall kids born \n",
    "    # Do this by filtering on the childs condition at birth\n",
    "    # TODO: WRITE YOUR CODE HERE\n",
    "    return num_tall_kids\n",
    "\n",
    "def num_tall_height_kids(birthData):\n",
    "    # Return number of tall kids who also have a height of over 40 cm\n",
    "    # TODO: WRITE YOUR CODE HERE\n",
    "    return num_tall_kids"
   ]
  },
  {
   "cell_type": "markdown",
   "metadata": {},
   "source": [
    "<font color='red'>Questions</font>\n",
    "1. >How healthy kids are there at birth ? Answer = \n",
    "2. >Whats the number of tall kids at birth ? Answer = \n",
    "3. >Whats the number of tall kids with height > 40 cm ? Answer = "
   ]
  },
  {
   "cell_type": "markdown",
   "metadata": {},
   "source": [
    "# Visualization\n",
    "Visualization of data can be for various purposes. Commonly you want to use visualization for exploration of the data and presentation of the data. Here we will look at exploration. \n",
    "\n",
    "A key library to use is seaborn, but there are various others. Pandas offers quick ways of visualizing data in dataframes and Series. Underneath it uses matplotlib."
   ]
  },
  {
   "cell_type": "code",
   "execution_count": 57,
   "metadata": {
    "collapsed": true
   },
   "outputs": [],
   "source": [
    "# Lets start by using matplotlib\n",
    "def plot_scatter(birthData):\n",
    "    # Plot a scatter plot of Height vs Weight\n",
    "    X = birthData['Heights']\n",
    "    Y = birthData['Weights']\n",
    "    plt.figure()\n",
    "    plt.scatter(X,Y)\n",
    "    plt.title('BirthRate: Height vs Weight')\n",
    "    plt.xlabel('Heights')\n",
    "    plt.ylabel('Weights')\n",
    "    return plt\n",
    "\n",
    "def plot_bar(birthData):\n",
    "    # Plot bar charts for the gender\n",
    "    X = birthData['Heights']\n",
    "    Y = birthData['Weights']\n",
    "    plt.figure()\n",
    "    plt.bar(X,Y)\n",
    "    plt.title('Weight distribution relative to Height')\n",
    "    plt.xlabel('Height')\n",
    "    plt.ylabel('Weight')\n",
    "    return plt\n",
    "\n",
    "def plot_hist(birthData):\n",
    "    # plot histogram\n",
    "    X = birthData['Heights']\n",
    "    plt.figure()\n",
    "    plt.hist(X)\n",
    "    plt.title('Height Distribution')\n",
    "    plt.xlabel('Height')\n",
    "    plt.ylabel('Frequency')\n",
    "    return plt"
   ]
  },
  {
   "cell_type": "code",
   "execution_count": 63,
   "metadata": {
    "collapsed": false
   },
   "outputs": [
    {
     "data": {
      "text/plain": [
       "<module 'matplotlib.pyplot' from '/Users/emwebaze/anaconda/lib/python2.7/site-packages/matplotlib/pyplot.pyc'>"
      ]
     },
     "execution_count": 63,
     "metadata": {},
     "output_type": "execute_result"
    },
    {
     "data": {
      "image/png": "[encoded data removed]",
      "text/plain": [
       "<matplotlib.figure.Figure at 0x116e76fd0>"
      ]
     },
     "metadata": {},
     "output_type": "display_data"
    }
   ],
   "source": [
    "plot_scatter(birthData)"
   ]
  },
  {
   "cell_type": "code",
   "execution_count": 64,
   "metadata": {
    "collapsed": false
   },
   "outputs": [
    {
     "data": {
      "text/plain": [
       "<module 'matplotlib.pyplot' from '/Users/emwebaze/anaconda/lib/python2.7/site-packages/matplotlib/pyplot.pyc'>"
      ]
     },
     "execution_count": 64,
     "metadata": {},
     "output_type": "execute_result"
    },
    {
     "data": {
      "image/png": "[encoded data removed]",
      "text/plain": [
       "<matplotlib.figure.Figure at 0x116da2150>"
      ]
     },
     "metadata": {},
     "output_type": "display_data"
    }
   ],
   "source": [
    "plot_hist(birthData)"
   ]
  },
  {
   "cell_type": "code",
   "execution_count": 17,
   "metadata": {
    "collapsed": false
   },
   "outputs": [
    {
     "data": {
      "text/plain": [
       "<matplotlib.axes._subplots.AxesSubplot at 0x114676090>"
      ]
     },
     "execution_count": 17,
     "metadata": {},
     "output_type": "execute_result"
    },
    {
     "data": {
      "image/png": "[encoded data removed]",
      "text/plain": [
       "<matplotlib.figure.Figure at 0x117700850>"
      ]
     },
     "metadata": {},
     "output_type": "display_data"
    }
   ],
   "source": [
    "birthData.Weights.plot(kind='hist')"
   ]
  },
  {
   "cell_type": "markdown",
   "metadata": {},
   "source": [
    "** Using seaborn transforms the plots to much better looking plots :-)**\n",
    "\n",
    ">Import seaborn and re-run the plots"
   ]
  },
  {
   "cell_type": "code",
   "execution_count": 66,
   "metadata": {
    "collapsed": false
   },
   "outputs": [
    {
     "data": {
      "text/plain": [
       "<seaborn.axisgrid.JointGrid at 0x11cb9ac50>"
      ]
     },
     "execution_count": 66,
     "metadata": {},
     "output_type": "execute_result"
    },
    {
     "data": {
      "image/png": "[encoded data removed]",
      "text/plain": [
       "<matplotlib.figure.Figure at 0x11cb7a8d0>"
      ]
     },
     "metadata": {},
     "output_type": "display_data"
    }
   ],
   "source": [
    "sns.jointplot(x='Heights', y='Weights', data=birthData)"
   ]
  },
  {
   "cell_type": "markdown",
   "metadata": {},
   "source": [
    "## Plotting time-series data\n",
    "The index in a Pandas dataframe is a very useful thing to know about. You can convert the indices of a data frame using the index functions."
   ]
  },
  {
   "cell_type": "code",
   "execution_count": 14,
   "metadata": {
    "collapsed": false
   },
   "outputs": [
    {
     "data": {
      "text/html": [
       "<div>\n",
       "<table border=\"1\" class=\"dataframe\">\n",
       "  <thead>\n",
       "    <tr style=\"text-align: right;\">\n",
       "      <th></th>\n",
       "      <th>Childcondition</th>\n",
       "      <th>Gender</th>\n",
       "      <th>Heights</th>\n",
       "      <th>Weights</th>\n",
       "    </tr>\n",
       "    <tr>\n",
       "      <th>BirthDays</th>\n",
       "      <th></th>\n",
       "      <th></th>\n",
       "      <th></th>\n",
       "      <th></th>\n",
       "    </tr>\n",
       "  </thead>\n",
       "  <tbody>\n",
       "    <tr>\n",
       "      <th>2003-11-23</th>\n",
       "      <td>Weak, Healthy</td>\n",
       "      <td>girl</td>\n",
       "      <td>55</td>\n",
       "      <td>3.8</td>\n",
       "    </tr>\n",
       "    <tr>\n",
       "      <th>2002-06-21</th>\n",
       "      <td>Tall</td>\n",
       "      <td>boy</td>\n",
       "      <td>56</td>\n",
       "      <td>2.8</td>\n",
       "    </tr>\n",
       "    <tr>\n",
       "      <th>2003-06-29</th>\n",
       "      <td>Tall</td>\n",
       "      <td>girl</td>\n",
       "      <td>49</td>\n",
       "      <td>2.9</td>\n",
       "    </tr>\n",
       "    <tr>\n",
       "      <th>2002-10-09</th>\n",
       "      <td>Weak, Tall, Hairy</td>\n",
       "      <td>girl</td>\n",
       "      <td>49</td>\n",
       "      <td>4.0</td>\n",
       "    </tr>\n",
       "    <tr>\n",
       "      <th>2003-07-03</th>\n",
       "      <td>Weak, Healthy</td>\n",
       "      <td>boy</td>\n",
       "      <td>59</td>\n",
       "      <td>4.0</td>\n",
       "    </tr>\n",
       "  </tbody>\n",
       "</table>\n",
       "</div>"
      ],
      "text/plain": [
       "               Childcondition Gender  Heights  Weights\n",
       "BirthDays                                             \n",
       "2003-11-23      Weak, Healthy   girl       55      3.8\n",
       "2002-06-21               Tall    boy       56      2.8\n",
       "2003-06-29               Tall   girl       49      2.9\n",
       "2002-10-09  Weak, Tall, Hairy   girl       49      4.0\n",
       "2003-07-03      Weak, Healthy    boy       59      4.0"
      ]
     },
     "execution_count": 14,
     "metadata": {},
     "output_type": "execute_result"
    }
   ],
   "source": [
    "# Reset the index of the data\n",
    "birthData = birthData.set_index('BirthDays')\n",
    "birthData.head()"
   ]
  },
  {
   "cell_type": "code",
   "execution_count": 68,
   "metadata": {
    "collapsed": false
   },
   "outputs": [
    {
     "data": {
      "text/plain": [
       "<matplotlib.axes._subplots.AxesSubplot at 0x1167dbad0>"
      ]
     },
     "execution_count": 68,
     "metadata": {},
     "output_type": "execute_result"
    },
    {
     "data": {
      "image/png": "[encoded data removed]",
      "text/plain": [
       "<matplotlib.figure.Figure at 0x1168475d0>"
      ]
     },
     "metadata": {},
     "output_type": "display_data"
    }
   ],
   "source": [
    "# Plot time series\n",
    "#Use groupby to get a count of births per month\n",
    "\n",
    "d = birthData.reset_index()\n",
    "d.BirthDays.value_counts().plot()"
   ]
  },
  {
   "cell_type": "markdown",
   "metadata": {},
   "source": [
    "## <font color='red'>Questions</font>\n",
    "1. >Plot a timeseries of the number of boys born in the two year period\n",
    "2. >Plot the timeseries of number of girls born in 2003 \n",
    "3. >Plot a bar plot of the births per month"
   ]
  },
  {
   "cell_type": "code",
   "execution_count": null,
   "metadata": {
    "collapsed": false
   },
   "outputs": [],
   "source": [
    "# We can now generate data from various time intervals or periods \n",
    "# For example quantifying the births by years\n",
    "# Type birthData.index? to see all the possible options\n",
    "\n",
    "yd = birthData[birthData.index.year == 2002]\n",
    "yd.Weight.plot()"
   ]
  },
  {
   "cell_type": "markdown",
   "metadata": {},
   "source": [
    "## Statistical Rigor, Machine Learning \n",
    "Sometimes during analysis we want to determine how significant our inference are in the data. For this we tend to use statistical tests. \n",
    "\n",
    "Some questions one may try to answer are for example Is there a difference in the heights of boys and girls born throughout the period ?"
   ]
  },
  {
   "cell_type": "code",
   "execution_count": null,
   "metadata": {
    "collapsed": true
   },
   "outputs": [],
   "source": [
    "import scipy.stats\n",
    "# Assume normality\n",
    "def calculate_statistics(birthData):\n",
    "    # Assuming normality of the data, use a suitable test to calculate the test statistic using the \n",
    "    # two-sample t-test (Welch test)\n",
    "    # and the p-value associated with the statistic. \n",
    "    # TODO: WRITE YOUR CODE HERE\n",
    "    test_statistic, p_value = scipy.stats.ttest_ind(birthData.Height[birthData.Gender=='girl'], birthData.Marks[birthData.Gender=='boy'], equal_var=False)\n",
    "    \n",
    "    return test_statistic, p_value\n"
   ]
  },
  {
   "cell_type": "code",
   "execution_count": null,
   "metadata": {
    "collapsed": false
   },
   "outputs": [],
   "source": [
    "test_statistic, pvalue =  calculate_statistics(ageData)\n",
    "print test_statistic, pvalue"
   ]
  },
  {
   "cell_type": "code",
   "execution_count": null,
   "metadata": {
    "collapsed": true
   },
   "outputs": [],
   "source": [
    "# Not making the normality assumption for the birth data\n",
    "def calculate_statistics_nonnormal(ageData):\n",
    "    # Without assuming normality of the data, use a suitable test to calculate the test statistic\n",
    "    # and the p-value associated with the statistic. \n",
    "    # TODO: WRITE YOUR CODE HERE\n",
    "    test_statistic, p_value = scipy.stats.mannwhitneyu(birthData.Height[birthData.Gender=='girl'], birthData.Marks[birthData.Gender=='boy'])\n",
    "    \n",
    "    return test_statistic, p_value"
   ]
  },
  {
   "cell_type": "code",
   "execution_count": null,
   "metadata": {
    "collapsed": false
   },
   "outputs": [],
   "source": [
    "test_statistic, pvalue =  calculate_statistics_nonnormal(ageData)\n",
    "print test_statistic, pvalue"
   ]
  }
 ],
 "metadata": {
  "kernelspec": {
   "display_name": "Python 2",
   "language": "python",
   "name": "python2"
  },
  "language_info": {
   "codemirror_mode": {
    "name": "ipython",
    "version": 2
   },
   "file_extension": ".py",
   "mimetype": "text/x-python",
   "name": "python",
   "nbconvert_exporter": "python",
   "pygments_lexer": "ipython2",
   "version": "2.7.11"
  }
 },
 "nbformat": 4,
 "nbformat_minor": 0
}
